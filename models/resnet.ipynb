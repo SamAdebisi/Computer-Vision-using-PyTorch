{
  "nbformat": 4,
  "nbformat_minor": 0,
  "metadata": {
    "colab": {
      "provenance": [],
      "gpuType": "T4",
      "authorship_tag": "ABX9TyNY+/+kY5Ty23SWgHs6BSUx",
      "include_colab_link": true
    },
    "kernelspec": {
      "name": "python3",
      "display_name": "Python 3"
    },
    "language_info": {
      "name": "python"
    },
    "accelerator": "GPU"
  },
  "cells": [
    {
      "cell_type": "markdown",
      "metadata": {
        "id": "view-in-github",
        "colab_type": "text"
      },
      "source": [
        "<a href=\"https://colab.research.google.com/github/SamAdebisi/Computer-Vision-using-PyTorch/blob/main/models/resnet.ipynb\" target=\"_parent\"><img src=\"https://colab.research.google.com/assets/colab-badge.svg\" alt=\"Open In Colab\"/></a>"
      ]
    },
    {
      "cell_type": "code",
      "execution_count": 1,
      "metadata": {
        "id": "FY-4LbqYhJC3",
        "colab": {
          "base_uri": "https://localhost:8080/"
        },
        "outputId": "249616be-f908-4999-f717-01f7df9842ab"
      },
      "outputs": [
        {
          "output_type": "execute_result",
          "data": {
            "text/plain": [
              "device(type='cuda')"
            ]
          },
          "metadata": {},
          "execution_count": 1
        }
      ],
      "source": [
        "# Import necessary libraries\n",
        "import torch\n",
        "import torch.nn as nn\n",
        "import torch.optim as optim\n",
        "from torchvision import datasets, transforms, models\n",
        "from torch.utils.data import DataLoader\n",
        "import matplotlib.pyplot as plt\n",
        "import numpy as np\n",
        "\n",
        "# Check if GPU is available\n",
        "device = torch.device('cuda' if torch.cuda.is_available() else 'cpu')\n",
        "device"
      ]
    },
    {
      "cell_type": "code",
      "source": [
        "# Define transformations for the training and validation sets\n",
        "transform = transforms.Compose([\n",
        "    transforms.Resize((224, 224)),\n",
        "    transforms.ToTensor(),\n",
        "    transforms.Normalize(mean=[0.485, 0.456, 0.406], std=[0.229, 0.224, 0.225])\n",
        "])"
      ],
      "metadata": {
        "id": "c6uAQaufhZPu"
      },
      "execution_count": 2,
      "outputs": []
    },
    {
      "cell_type": "code",
      "source": [
        "from google.colab import files\n",
        "uploaded = files.upload()"
      ],
      "metadata": {
        "colab": {
          "base_uri": "https://localhost:8080/",
          "height": 73
        },
        "id": "l8NZ196m1nsT",
        "outputId": "a2d36b69-718b-4a60-9fdc-66fa368c13f9"
      },
      "execution_count": 3,
      "outputs": [
        {
          "output_type": "display_data",
          "data": {
            "text/plain": [
              "<IPython.core.display.HTML object>"
            ],
            "text/html": [
              "\n",
              "     <input type=\"file\" id=\"files-66867dc1-d8c8-4495-9005-eac2261b6d63\" name=\"files[]\" multiple disabled\n",
              "        style=\"border:none\" />\n",
              "     <output id=\"result-66867dc1-d8c8-4495-9005-eac2261b6d63\">\n",
              "      Upload widget is only available when the cell has been executed in the\n",
              "      current browser session. Please rerun this cell to enable.\n",
              "      </output>\n",
              "      <script>// Copyright 2017 Google LLC\n",
              "//\n",
              "// Licensed under the Apache License, Version 2.0 (the \"License\");\n",
              "// you may not use this file except in compliance with the License.\n",
              "// You may obtain a copy of the License at\n",
              "//\n",
              "//      http://www.apache.org/licenses/LICENSE-2.0\n",
              "//\n",
              "// Unless required by applicable law or agreed to in writing, software\n",
              "// distributed under the License is distributed on an \"AS IS\" BASIS,\n",
              "// WITHOUT WARRANTIES OR CONDITIONS OF ANY KIND, either express or implied.\n",
              "// See the License for the specific language governing permissions and\n",
              "// limitations under the License.\n",
              "\n",
              "/**\n",
              " * @fileoverview Helpers for google.colab Python module.\n",
              " */\n",
              "(function(scope) {\n",
              "function span(text, styleAttributes = {}) {\n",
              "  const element = document.createElement('span');\n",
              "  element.textContent = text;\n",
              "  for (const key of Object.keys(styleAttributes)) {\n",
              "    element.style[key] = styleAttributes[key];\n",
              "  }\n",
              "  return element;\n",
              "}\n",
              "\n",
              "// Max number of bytes which will be uploaded at a time.\n",
              "const MAX_PAYLOAD_SIZE = 100 * 1024;\n",
              "\n",
              "function _uploadFiles(inputId, outputId) {\n",
              "  const steps = uploadFilesStep(inputId, outputId);\n",
              "  const outputElement = document.getElementById(outputId);\n",
              "  // Cache steps on the outputElement to make it available for the next call\n",
              "  // to uploadFilesContinue from Python.\n",
              "  outputElement.steps = steps;\n",
              "\n",
              "  return _uploadFilesContinue(outputId);\n",
              "}\n",
              "\n",
              "// This is roughly an async generator (not supported in the browser yet),\n",
              "// where there are multiple asynchronous steps and the Python side is going\n",
              "// to poll for completion of each step.\n",
              "// This uses a Promise to block the python side on completion of each step,\n",
              "// then passes the result of the previous step as the input to the next step.\n",
              "function _uploadFilesContinue(outputId) {\n",
              "  const outputElement = document.getElementById(outputId);\n",
              "  const steps = outputElement.steps;\n",
              "\n",
              "  const next = steps.next(outputElement.lastPromiseValue);\n",
              "  return Promise.resolve(next.value.promise).then((value) => {\n",
              "    // Cache the last promise value to make it available to the next\n",
              "    // step of the generator.\n",
              "    outputElement.lastPromiseValue = value;\n",
              "    return next.value.response;\n",
              "  });\n",
              "}\n",
              "\n",
              "/**\n",
              " * Generator function which is called between each async step of the upload\n",
              " * process.\n",
              " * @param {string} inputId Element ID of the input file picker element.\n",
              " * @param {string} outputId Element ID of the output display.\n",
              " * @return {!Iterable<!Object>} Iterable of next steps.\n",
              " */\n",
              "function* uploadFilesStep(inputId, outputId) {\n",
              "  const inputElement = document.getElementById(inputId);\n",
              "  inputElement.disabled = false;\n",
              "\n",
              "  const outputElement = document.getElementById(outputId);\n",
              "  outputElement.innerHTML = '';\n",
              "\n",
              "  const pickedPromise = new Promise((resolve) => {\n",
              "    inputElement.addEventListener('change', (e) => {\n",
              "      resolve(e.target.files);\n",
              "    });\n",
              "  });\n",
              "\n",
              "  const cancel = document.createElement('button');\n",
              "  inputElement.parentElement.appendChild(cancel);\n",
              "  cancel.textContent = 'Cancel upload';\n",
              "  const cancelPromise = new Promise((resolve) => {\n",
              "    cancel.onclick = () => {\n",
              "      resolve(null);\n",
              "    };\n",
              "  });\n",
              "\n",
              "  // Wait for the user to pick the files.\n",
              "  const files = yield {\n",
              "    promise: Promise.race([pickedPromise, cancelPromise]),\n",
              "    response: {\n",
              "      action: 'starting',\n",
              "    }\n",
              "  };\n",
              "\n",
              "  cancel.remove();\n",
              "\n",
              "  // Disable the input element since further picks are not allowed.\n",
              "  inputElement.disabled = true;\n",
              "\n",
              "  if (!files) {\n",
              "    return {\n",
              "      response: {\n",
              "        action: 'complete',\n",
              "      }\n",
              "    };\n",
              "  }\n",
              "\n",
              "  for (const file of files) {\n",
              "    const li = document.createElement('li');\n",
              "    li.append(span(file.name, {fontWeight: 'bold'}));\n",
              "    li.append(span(\n",
              "        `(${file.type || 'n/a'}) - ${file.size} bytes, ` +\n",
              "        `last modified: ${\n",
              "            file.lastModifiedDate ? file.lastModifiedDate.toLocaleDateString() :\n",
              "                                    'n/a'} - `));\n",
              "    const percent = span('0% done');\n",
              "    li.appendChild(percent);\n",
              "\n",
              "    outputElement.appendChild(li);\n",
              "\n",
              "    const fileDataPromise = new Promise((resolve) => {\n",
              "      const reader = new FileReader();\n",
              "      reader.onload = (e) => {\n",
              "        resolve(e.target.result);\n",
              "      };\n",
              "      reader.readAsArrayBuffer(file);\n",
              "    });\n",
              "    // Wait for the data to be ready.\n",
              "    let fileData = yield {\n",
              "      promise: fileDataPromise,\n",
              "      response: {\n",
              "        action: 'continue',\n",
              "      }\n",
              "    };\n",
              "\n",
              "    // Use a chunked sending to avoid message size limits. See b/62115660.\n",
              "    let position = 0;\n",
              "    do {\n",
              "      const length = Math.min(fileData.byteLength - position, MAX_PAYLOAD_SIZE);\n",
              "      const chunk = new Uint8Array(fileData, position, length);\n",
              "      position += length;\n",
              "\n",
              "      const base64 = btoa(String.fromCharCode.apply(null, chunk));\n",
              "      yield {\n",
              "        response: {\n",
              "          action: 'append',\n",
              "          file: file.name,\n",
              "          data: base64,\n",
              "        },\n",
              "      };\n",
              "\n",
              "      let percentDone = fileData.byteLength === 0 ?\n",
              "          100 :\n",
              "          Math.round((position / fileData.byteLength) * 100);\n",
              "      percent.textContent = `${percentDone}% done`;\n",
              "\n",
              "    } while (position < fileData.byteLength);\n",
              "  }\n",
              "\n",
              "  // All done.\n",
              "  yield {\n",
              "    response: {\n",
              "      action: 'complete',\n",
              "    }\n",
              "  };\n",
              "}\n",
              "\n",
              "scope.google = scope.google || {};\n",
              "scope.google.colab = scope.google.colab || {};\n",
              "scope.google.colab._files = {\n",
              "  _uploadFiles,\n",
              "  _uploadFilesContinue,\n",
              "};\n",
              "})(self);\n",
              "</script> "
            ]
          },
          "metadata": {}
        },
        {
          "output_type": "stream",
          "name": "stdout",
          "text": [
            "Saving Human Action Recognition.zip to Human Action Recognition.zip\n"
          ]
        }
      ]
    },
    {
      "cell_type": "code",
      "source": [
        "import zipfile\n",
        "import os\n",
        "\n",
        "# Update the path to the correct location of the zip file\n",
        "zip_file_path = 'Human Action Recognition.zip'\n",
        "\n",
        "with zipfile.ZipFile(zip_file_path, 'r') as zip_ref:\n",
        "    # Update extraction path if needed\n",
        "    extraction_path = ''\n",
        "    zip_ref.extractall(extraction_path)\n",
        "\n",
        "# Update paths accordingly\n",
        "train_data_path = 'Human Action Recognition/train'\n",
        "test_data_path = 'Human Action Recognition/test'"
      ],
      "metadata": {
        "id": "S01GKsy02Q9s"
      },
      "execution_count": 4,
      "outputs": []
    },
    {
      "cell_type": "code",
      "source": [
        "#Apply the transforms to the train and test data\n",
        "train_data = datasets.ImageFolder(root=train_data_path, transform=transform)\n",
        "test_data = datasets.ImageFolder(root=test_data_path, transform=transform)"
      ],
      "metadata": {
        "id": "WrfcRR024KBl"
      },
      "execution_count": 5,
      "outputs": []
    },
    {
      "cell_type": "code",
      "source": [
        "# Create DataLoader for training and test sets\n",
        "train_loader = DataLoader(train_data, batch_size=32, shuffle=True, num_workers=4)\n",
        "test_loader = DataLoader(test_data, batch_size=32, shuffle=False, num_workers=4)"
      ],
      "metadata": {
        "colab": {
          "base_uri": "https://localhost:8080/"
        },
        "id": "0xPa3__04eEl",
        "outputId": "6f12f41f-44ad-4c45-d859-9bb29b403bd1"
      },
      "execution_count": 6,
      "outputs": [
        {
          "output_type": "stream",
          "name": "stderr",
          "text": [
            "/usr/local/lib/python3.11/dist-packages/torch/utils/data/dataloader.py:624: UserWarning: This DataLoader will create 4 worker processes in total. Our suggested max number of worker in current system is 2, which is smaller than what this DataLoader is going to create. Please be aware that excessive worker creation might get DataLoader running slow or even freeze, lower the worker number to avoid potential slowness/freeze if necessary.\n",
            "  warnings.warn(\n"
          ]
        }
      ]
    },
    {
      "cell_type": "code",
      "source": [
        "# Load the pre-trained ResNet model\n",
        "resnet = models.resnet50(pretrained=True)  # You can change to resnet18, resnet34, resnet101, etc. based on your requirement\n",
        "\n",
        "# Freeze all the feature extractor layers\n",
        "for param in resnet.parameters():\n",
        "    param.requires_grad = False\n",
        "\n",
        "# Modify the fully connected layer to match the number of classes (5 classes)\n",
        "num_features = resnet.fc.in_features\n",
        "resnet.fc = nn.Linear(num_features, 5)\n",
        "\n",
        "# Define the device\n",
        "device = torch.device(\"cuda\" if torch.cuda.is_available() else \"cpu\")\n",
        "\n",
        "# Move the model to the device\n",
        "model = resnet.to(device)\n",
        "\n",
        "# Define loss function and optimizer\n",
        "criterion = nn.CrossEntropyLoss()\n",
        "optimizer = optim.Adam(resnet.fc.parameters(), lr=0.001)"
      ],
      "metadata": {
        "colab": {
          "base_uri": "https://localhost:8080/"
        },
        "id": "4yAd82c-4xmf",
        "outputId": "65be0c0b-d189-47fd-a12b-d263afc7470c"
      },
      "execution_count": 7,
      "outputs": [
        {
          "output_type": "stream",
          "name": "stderr",
          "text": [
            "/usr/local/lib/python3.11/dist-packages/torchvision/models/_utils.py:208: UserWarning: The parameter 'pretrained' is deprecated since 0.13 and may be removed in the future, please use 'weights' instead.\n",
            "  warnings.warn(\n",
            "/usr/local/lib/python3.11/dist-packages/torchvision/models/_utils.py:223: UserWarning: Arguments other than a weight enum or `None` for 'weights' are deprecated since 0.13 and may be removed in the future. The current behavior is equivalent to passing `weights=ResNet50_Weights.IMAGENET1K_V1`. You can also use `weights=ResNet50_Weights.DEFAULT` to get the most up-to-date weights.\n",
            "  warnings.warn(msg)\n",
            "Downloading: \"https://download.pytorch.org/models/resnet50-0676ba61.pth\" to /root/.cache/torch/hub/checkpoints/resnet50-0676ba61.pth\n",
            "100%|██████████| 97.8M/97.8M [00:00<00:00, 158MB/s]\n"
          ]
        }
      ]
    },
    {
      "cell_type": "code",
      "source": [
        "import matplotlib.pyplot as plt\n",
        "\n",
        "# Initialize the lists to store train and test loss for each epoch\n",
        "train_losses = []\n",
        "test_losses = []\n",
        "\n",
        "# Train the model\n",
        "num_epochs = 20\n",
        "best_loss = torch.inf\n",
        "patience = 5\n",
        "epochs_since_best = 0\n",
        "\n",
        "for epoch in range(num_epochs):\n",
        "    model.train()\n",
        "    running_loss = 0.0\n",
        "    correct = 0\n",
        "    total = 0\n",
        "\n",
        "    for images, labels in train_loader:\n",
        "        images, labels = images.to(device), labels.to(device)\n",
        "        optimizer.zero_grad()\n",
        "        outputs = model(images)\n",
        "        if isinstance(outputs, tuple):\n",
        "            outputs = outputs[0]  # For models that return auxiliary outputs\n",
        "        loss = criterion(outputs, labels)\n",
        "        loss.backward()\n",
        "        optimizer.step()\n",
        "        running_loss += loss.item()\n",
        "        _, predicted = outputs.max(1)\n",
        "        total += labels.size(0)\n",
        "        correct += predicted.eq(labels).sum().item()\n",
        "\n",
        "    train_loss = running_loss / len(train_loader)\n",
        "    train_losses.append(train_loss)  # Store the train loss for this epoch\n",
        "    train_accuracy = 100. * correct / total\n",
        "\n",
        "    print(f'Epoch [{epoch + 1}/{num_epochs}], '\n",
        "          f'Train Loss: {train_loss:.4f}, Train Accuracy: {train_accuracy:.2f}%')\n",
        "\n",
        "    # Evaluate on the test set\n",
        "    model.eval()\n",
        "    test_loss = 0.0\n",
        "    correct = 0\n",
        "    total = 0\n",
        "\n",
        "    with torch.no_grad():\n",
        "        for images, labels in test_loader:\n",
        "            images, labels = images.to(device), labels.to(device)\n",
        "            outputs = model(images)\n",
        "            if isinstance(outputs, tuple):\n",
        "                outputs = outputs[0]  # For models that return auxiliary outputs\n",
        "            loss = criterion(outputs, labels)\n",
        "            test_loss += loss.item()\n",
        "            _, predicted = outputs.max(1)\n",
        "            total += labels.size(0)\n",
        "            correct += predicted.eq(labels).sum().item()\n",
        "\n",
        "    test_loss /= len(test_loader)\n",
        "    test_losses.append(test_loss)  # Store the test loss for this epoch\n",
        "    test_accuracy = 100. * correct / total\n",
        "\n",
        "    print(f'Test Loss: {test_loss:.4f}, Test Accuracy: {test_accuracy:.2f}%')\n",
        "\n",
        "    # Check for best accuracy and stop if not improved after five more epochs\n",
        "    if test_loss < best_loss:\n",
        "        best_loss = test_loss\n",
        "        epochs_since_best = 0\n",
        "        torch.save(model.state_dict(), 'best_model.pth')  # Save the model\n",
        "        print(f'Updated best model with accuracy: {test_accuracy:.2f}%')\n",
        "    else:\n",
        "        epochs_since_best += 1\n",
        "        if epochs_since_best > patience:\n",
        "            print(\"Stopping early: no improvement after five consecutive epochs.\")\n",
        "            break"
      ],
      "metadata": {
        "colab": {
          "base_uri": "https://localhost:8080/"
        },
        "id": "AVKG_So_6y_R",
        "outputId": "47f1a4cd-b45b-46bf-e60e-82537cef26e5"
      },
      "execution_count": 8,
      "outputs": [
        {
          "output_type": "stream",
          "name": "stdout",
          "text": [
            "Epoch [1/20], Train Loss: 0.6687, Train Accuracy: 76.81%\n",
            "Test Loss: 0.3941, Test Accuracy: 88.41%\n",
            "Updated best model with accuracy: 88.41%\n",
            "Epoch [2/20], Train Loss: 0.3843, Train Accuracy: 87.23%\n",
            "Test Loss: 0.3042, Test Accuracy: 89.21%\n",
            "Updated best model with accuracy: 89.21%\n",
            "Epoch [3/20], Train Loss: 0.3327, Train Accuracy: 88.49%\n",
            "Test Loss: 0.2840, Test Accuracy: 90.79%\n",
            "Updated best model with accuracy: 90.79%\n",
            "Epoch [4/20], Train Loss: 0.3079, Train Accuracy: 89.36%\n",
            "Test Loss: 0.2771, Test Accuracy: 91.11%\n",
            "Updated best model with accuracy: 91.11%\n",
            "Epoch [5/20], Train Loss: 0.2661, Train Accuracy: 90.87%\n",
            "Test Loss: 0.3229, Test Accuracy: 89.05%\n",
            "Epoch [6/20], Train Loss: 0.2629, Train Accuracy: 90.70%\n",
            "Test Loss: 0.2867, Test Accuracy: 90.95%\n",
            "Epoch [7/20], Train Loss: 0.2680, Train Accuracy: 90.70%\n",
            "Test Loss: 0.2943, Test Accuracy: 89.37%\n",
            "Epoch [8/20], Train Loss: 0.2486, Train Accuracy: 91.06%\n",
            "Test Loss: 0.2717, Test Accuracy: 90.48%\n",
            "Updated best model with accuracy: 90.48%\n",
            "Epoch [9/20], Train Loss: 0.2439, Train Accuracy: 91.76%\n",
            "Test Loss: 0.2693, Test Accuracy: 90.63%\n",
            "Updated best model with accuracy: 90.63%\n",
            "Epoch [10/20], Train Loss: 0.2290, Train Accuracy: 92.32%\n",
            "Test Loss: 0.2808, Test Accuracy: 90.95%\n",
            "Epoch [11/20], Train Loss: 0.2317, Train Accuracy: 91.57%\n",
            "Test Loss: 0.2780, Test Accuracy: 90.95%\n",
            "Epoch [12/20], Train Loss: 0.2350, Train Accuracy: 91.74%\n",
            "Test Loss: 0.2728, Test Accuracy: 90.79%\n",
            "Epoch [13/20], Train Loss: 0.2251, Train Accuracy: 92.13%\n",
            "Test Loss: 0.2764, Test Accuracy: 90.16%\n",
            "Epoch [14/20], Train Loss: 0.2210, Train Accuracy: 92.18%\n",
            "Test Loss: 0.2683, Test Accuracy: 91.11%\n",
            "Updated best model with accuracy: 91.11%\n",
            "Epoch [15/20], Train Loss: 0.2123, Train Accuracy: 92.27%\n",
            "Test Loss: 0.2791, Test Accuracy: 90.79%\n",
            "Epoch [16/20], Train Loss: 0.2086, Train Accuracy: 92.66%\n",
            "Test Loss: 0.3021, Test Accuracy: 89.37%\n",
            "Epoch [17/20], Train Loss: 0.2176, Train Accuracy: 92.52%\n",
            "Test Loss: 0.3126, Test Accuracy: 90.00%\n",
            "Epoch [18/20], Train Loss: 0.2276, Train Accuracy: 91.48%\n",
            "Test Loss: 0.2747, Test Accuracy: 90.16%\n",
            "Epoch [19/20], Train Loss: 0.1967, Train Accuracy: 93.22%\n",
            "Test Loss: 0.2961, Test Accuracy: 90.32%\n",
            "Epoch [20/20], Train Loss: 0.2029, Train Accuracy: 92.35%\n",
            "Test Loss: 0.2824, Test Accuracy: 90.95%\n",
            "Stopping early: no improvement after five consecutive epochs.\n"
          ]
        }
      ]
    },
    {
      "cell_type": "code",
      "source": [
        "# Plotting the epochs vs training and test losses\n",
        "plt.plot(train_losses, label='Training Loss')\n",
        "plt.plot(test_losses, label='Test Loss')\n",
        "plt.xlabel('Epochs')\n",
        "plt.ylabel('Loss')\n",
        "plt.legend()\n",
        "plt.show()"
      ],
      "metadata": {
        "colab": {
          "base_uri": "https://localhost:8080/",
          "height": 449
        },
        "id": "_DSNW4K477qM",
        "outputId": "bd195389-f286-4098-ca8f-0fd6783deec9"
      },
      "execution_count": 9,
      "outputs": [
        {
          "output_type": "display_data",
          "data": {
            "text/plain": [
              "<Figure size 640x480 with 1 Axes>"
            ],
            "image/png": "[encoded data removed]"
          },
          "metadata": {}
        }
      ]
    },
    {
      "cell_type": "code",
      "source": [],
      "metadata": {
        "id": "Rf8qsmJz-Qz3"
      },
      "execution_count": null,
      "outputs": []
    }
  ]
}