{
 "cells": [
  {
   "cell_type": "markdown",
   "metadata": {
    "id": "cmqBa52NSLQo"
   },
   "source": [
    "## Image Classification Model Using AlexNet"
   ]
  },
  {
   "cell_type": "code",
   "execution_count": 9,
   "metadata": {
    "id": "2PQCibhyThia"
   },
   "outputs": [],
   "source": [
    "# from google.colab import drive\n",
    "# drive.mount('/content/drive')"
   ]
  },
  {
   "cell_type": "code",
   "execution_count": 1,
   "metadata": {
    "id": "V2a4118aSLQp"
   },
   "outputs": [
    {
     "ename": "ImportError",
     "evalue": "dlopen(/Users/azeez/miniforge3/lib/python3.10/site-packages/torch/_C.cpython-310-darwin.so, 0x0002): Library not loaded: @rpath/libgfortran.5.dylib\n  Referenced from: <342C6FCD-A261-33D7-B978-626161CFD49B> /Users/azeez/miniforge3/lib/libopenblas.0.dylib\n  Reason: tried: '/Users/azeez/miniforge3/lib/libgfortran.5.dylib' (duplicate LC_RPATH '@loader_path'), '/Users/azeez/miniforge3/lib/libgfortran.5.dylib' (duplicate LC_RPATH '@loader_path'), '/Users/azeez/miniforge3/lib/libgfortran.5.dylib' (duplicate LC_RPATH '@loader_path'), '/Users/azeez/miniforge3/lib/libgfortran.5.dylib' (duplicate LC_RPATH '@loader_path'), '/Users/azeez/miniforge3/lib/libgfortran.5.dylib' (duplicate LC_RPATH '@loader_path'), '/Users/azeez/miniforge3/lib/libgfortran.5.dylib' (duplicate LC_RPATH '@loader_path'), '/Users/azeez/miniforge3/lib/libgfortran.5.dylib' (duplicate LC_RPATH '@loader_path'), '/Users/azeez/miniforge3/lib/libgfortran.5.dylib' (duplicate LC_RPATH '@loader_path'), '/Users/azeez/miniforge3/lib/python3.10/site-packages/torch/lib/libgfortran.5.dylib' (no such file), '/Users/azeez/miniforge3/lib/python3.10/site-packages/torch/../../../libgfortran.5.dylib' (duplicate LC_RPATH '@loader_path'), '/Users/azeez/miniforge3/lib/python3.10/site-packages/torch/lib/libgfortran.5.dylib' (no such file), '/Users/azeez/miniforge3/lib/python3.10/site-packages/torch/../../../libgfortran.5.dylib' (duplicate LC_RPATH '@loader_path'), '/Users/azeez/miniforge3/bin/../lib/libgfortran.5.dylib' (duplicate LC_RPATH '@loader_path'), '/Users/azeez/miniforge3/bin/../lib/libgfortran.5.dylib' (duplicate LC_RPATH '@loader_path'), '/usr/local/lib/libgfortran.5.dylib' (no such file), '/usr/lib/libgfortran.5.dylib' (no such file, not in dyld cache)",
     "output_type": "error",
     "traceback": [
      "\u001b[0;31m---------------------------------------------------------------------------\u001b[0m",
      "\u001b[0;31mImportError\u001b[0m                               Traceback (most recent call last)",
      "Cell \u001b[0;32mIn[1], line 2\u001b[0m\n\u001b[1;32m      1\u001b[0m \u001b[38;5;28;01mimport\u001b[39;00m \u001b[38;5;21;01mos\u001b[39;00m\n\u001b[0;32m----> 2\u001b[0m \u001b[38;5;28;01mimport\u001b[39;00m \u001b[38;5;21;01mtorch\u001b[39;00m\n\u001b[1;32m      3\u001b[0m \u001b[38;5;28;01mfrom\u001b[39;00m \u001b[38;5;21;01mtorchvision\u001b[39;00m \u001b[38;5;28;01mimport\u001b[39;00m datasets, transforms\n\u001b[1;32m      4\u001b[0m \u001b[38;5;28;01mfrom\u001b[39;00m \u001b[38;5;21;01mtorch\u001b[39;00m\u001b[38;5;21;01m.\u001b[39;00m\u001b[38;5;21;01mutils\u001b[39;00m\u001b[38;5;21;01m.\u001b[39;00m\u001b[38;5;21;01mdata\u001b[39;00m \u001b[38;5;28;01mimport\u001b[39;00m DataLoader\n",
      "File \u001b[0;32m~/miniforge3/lib/python3.10/site-packages/torch/__init__.py:290\u001b[0m\n\u001b[1;32m    288\u001b[0m     \u001b[38;5;28;01mif\u001b[39;00m USE_GLOBAL_DEPS:\n\u001b[1;32m    289\u001b[0m         _load_global_deps()\n\u001b[0;32m--> 290\u001b[0m     \u001b[38;5;28;01mfrom\u001b[39;00m \u001b[38;5;21;01mtorch\u001b[39;00m\u001b[38;5;21;01m.\u001b[39;00m\u001b[38;5;21;01m_C\u001b[39;00m \u001b[38;5;28;01mimport\u001b[39;00m \u001b[38;5;241m*\u001b[39m  \u001b[38;5;66;03m# noqa: F403\u001b[39;00m\n\u001b[1;32m    292\u001b[0m \u001b[38;5;66;03m# Appease the type checker; ordinarily this binding is inserted by the\u001b[39;00m\n\u001b[1;32m    293\u001b[0m \u001b[38;5;66;03m# torch._C module initialization code in C\u001b[39;00m\n\u001b[1;32m    294\u001b[0m \u001b[38;5;28;01mif\u001b[39;00m TYPE_CHECKING:\n",
      "\u001b[0;31mImportError\u001b[0m: dlopen(/Users/azeez/miniforge3/lib/python3.10/site-packages/torch/_C.cpython-310-darwin.so, 0x0002): Library not loaded: @rpath/libgfortran.5.dylib\n  Referenced from: <342C6FCD-A261-33D7-B978-626161CFD49B> /Users/azeez/miniforge3/lib/libopenblas.0.dylib\n  Reason: tried: '/Users/azeez/miniforge3/lib/libgfortran.5.dylib' (duplicate LC_RPATH '@loader_path'), '/Users/azeez/miniforge3/lib/libgfortran.5.dylib' (duplicate LC_RPATH '@loader_path'), '/Users/azeez/miniforge3/lib/libgfortran.5.dylib' (duplicate LC_RPATH '@loader_path'), '/Users/azeez/miniforge3/lib/libgfortran.5.dylib' (duplicate LC_RPATH '@loader_path'), '/Users/azeez/miniforge3/lib/libgfortran.5.dylib' (duplicate LC_RPATH '@loader_path'), '/Users/azeez/miniforge3/lib/libgfortran.5.dylib' (duplicate LC_RPATH '@loader_path'), '/Users/azeez/miniforge3/lib/libgfortran.5.dylib' (duplicate LC_RPATH '@loader_path'), '/Users/azeez/miniforge3/lib/libgfortran.5.dylib' (duplicate LC_RPATH '@loader_path'), '/Users/azeez/miniforge3/lib/python3.10/site-packages/torch/lib/libgfortran.5.dylib' (no such file), '/Users/azeez/miniforge3/lib/python3.10/site-packages/torch/../../../libgfortran.5.dylib' (duplicate LC_RPATH '@loader_path'), '/Users/azeez/miniforge3/lib/python3.10/site-packages/torch/lib/libgfortran.5.dylib' (no such file), '/Users/azeez/miniforge3/lib/python3.10/site-packages/torch/../../../libgfortran.5.dylib' (duplicate LC_RPATH '@loader_path'), '/Users/azeez/miniforge3/bin/../lib/libgfortran.5.dylib' (duplicate LC_RPATH '@loader_path'), '/Users/azeez/miniforge3/bin/../lib/libgfortran.5.dylib' (duplicate LC_RPATH '@loader_path'), '/usr/local/lib/libgfortran.5.dylib' (no such file), '/usr/lib/libgfortran.5.dylib' (no such file, not in dyld cache)"
     ]
    }
   ],
   "source": [
    "import os\n",
    "import torch\n",
    "from torchvision import datasets, transforms\n",
    "from torch.utils.data import DataLoader"
   ]
  },
  {
   "cell_type": "code",
   "execution_count": 11,
   "metadata": {
    "id": "Gvu_IvNWSLQq"
   },
   "outputs": [],
   "source": [
    "\n",
    "transform = transforms.Compose([\n",
    "    transforms.Resize((227, 227)), #Alexnet expects an input size of 227 x 227 x 3\n",
    "    transforms.ToTensor(),\n",
    "    transforms.Normalize(mean=(0.5,0.5,0.5), std=(0.5,0.5,0.5))\n",
    "])"
   ]
  },
  {
   "cell_type": "code",
   "execution_count": 12,
   "metadata": {
    "id": "fgrgBrjsSLQq"
   },
   "outputs": [],
   "source": [
    "train_data_path = r'/Users/azeez/Desktop/AI/Personal Projects/GitHub/Computer-Vision-using-PyTorch/Human Action Recognition/train'\n",
    "test_data_path = r'/Users/azeez/Desktop/AI/Personal Projects/GitHub/Computer-Vision-using-PyTorch/Human Action Recognition/test'"
   ]
  },
  {
   "cell_type": "code",
   "execution_count": 13,
   "metadata": {
    "colab": {
     "base_uri": "https://localhost:8080/",
     "height": 304
    },
    "id": "gocI1h68SLQq",
    "outputId": "b5544d65-da5c-4aad-f307-2e770fc9379f"
   },
   "outputs": [],
   "source": [
    "train_data = datasets.ImageFolder(root=train_data_path, transform=transform)\n",
    "test_data = datasets.ImageFolder(root=test_data_path, transform=transform)"
   ]
  },
  {
   "cell_type": "markdown",
   "metadata": {
    "id": "1IGEoJJaSLQq"
   },
   "source": [
    "### AlexNet Architecture"
   ]
  },
  {
   "cell_type": "code",
   "execution_count": 14,
   "metadata": {
    "id": "CTXtMzFOSLQr"
   },
   "outputs": [],
   "source": [
    "import torch.nn as nn\n",
    "import torch.nn.functional as F\n",
    "\n",
    "class AlexNet(nn.Module):\n",
    "    def __init__(self, num_classes=5):\n",
    "        super(AlexNet, self).__init__()\n",
    "        self.features = nn.Sequential(\n",
    "            nn.Conv2d(3, 64, kernel_size=11, stride=4, padding=2),\n",
    "            nn.ReLU(inplace=True),\n",
    "            nn.MaxPool2d(kernel_size=3, stride=2),\n",
    "            nn.Conv2d(64, 192, kernel_size=5, padding=2),\n",
    "            nn.ReLU(inplace=True),\n",
    "            nn.MaxPool2d(kernel_size=3, stride=2),\n",
    "            nn.Conv2d(192, 384, kernel_size=3, padding=1),\n",
    "            nn.ReLU(inplace=True),\n",
    "            nn.Conv2d(384, 256, kernel_size=3, padding=1),\n",
    "            nn.ReLU(inplace=True),\n",
    "            nn.Conv2d(256, 256, kernel_size=3, padding=1),\n",
    "            nn.ReLU(inplace=True),\n",
    "            nn.MaxPool2d(kernel_size=3, stride=2),\n",
    "        )\n",
    "\n",
    "        # Calculate the size of the feature map after the last pooling layer\n",
    "        self.fc_input_dim = 256 * 6 * 6  # This is for input size 224x224\n",
    "\n",
    "        self.classifier = nn.Sequential(\n",
    "            nn.Dropout(),\n",
    "            nn.Linear(self.fc_input_dim, 4096),\n",
    "            nn.ReLU(inplace=True),\n",
    "            nn.Dropout(),\n",
    "            nn.Linear(4096, 4096),\n",
    "            nn.ReLU(inplace=True),\n",
    "            nn.Linear(4096, num_classes),\n",
    "        )\n",
    "\n",
    "    def forward(self, x):\n",
    "        x = self.features(x)\n",
    "        x = x.view(x.size(0), -1)  # Flatten the tensor\n",
    "        x = self.classifier(x)\n",
    "        return x"
   ]
  },
  {
   "cell_type": "code",
   "execution_count": 15,
   "metadata": {
    "id": "tFJ53zkaSLQr"
   },
   "outputs": [],
   "source": [
    "# Check if GPU is available\n",
    "device = torch.device(\"cuda\" if torch.cuda.is_available() else \"cpu\")"
   ]
  }
 ],
 "metadata": {
  "accelerator": "GPU",
  "colab": {
   "gpuType": "T4",
   "provenance": []
  },
  "kernelspec": {
   "display_name": "Python 3 (ipykernel)",
   "language": "python",
   "name": "python3"
  },
  "language_info": {
   "codemirror_mode": {
    "name": "ipython",
    "version": 3
   },
   "file_extension": ".py",
   "mimetype": "text/x-python",
   "name": "python",
   "nbconvert_exporter": "python",
   "pygments_lexer": "ipython3",
   "version": "3.10.14"
  }
 },
 "nbformat": 4,
 "nbformat_minor": 4
}
